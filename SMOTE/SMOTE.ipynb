{
 "cells": [
  {
   "cell_type": "code",
   "execution_count": 1,
   "metadata": {},
   "outputs": [],
   "source": [
    "def encode_text_dummy(df,name):\n",
    "    dummies=pd.get_dummies(df[name])\n",
    "    for x in dummies.columns:\n",
    "        dummy_name=\"{}-{}\".format(name,x)\n",
    "        df[dummy_name]=dummies[x]\n",
    "    df.drop(name,axis=1,inplace=True)"
   ]
  },
  {
   "cell_type": "code",
   "execution_count": 4,
   "metadata": {},
   "outputs": [],
   "source": [
    "import pandas as pd # to import csv and for data manipulation\n",
    "#import matplotlib.pyplot as plt # to plot graph\n",
    "#import seaborn as sns # for intractve graphs\n",
    "from imblearn.over_sampling import SMOTE\n",
    "import numpy as np # for linear algebra\n",
    "import datetime # to dela with date and time\n",
    "#import seaborn as sns\n",
    "import numpy as np\n",
    "#%matplotlib inline\n",
    "from sklearn.preprocessing import StandardScaler # for preprocessing the data\n",
    "from sklearn.model_selection import train_test_split # to split the data\n",
    "from sklearn.metrics import confusion_matrix,recall_score,precision_recall_curve,auc,roc_curve,roc_auc_score,classification_report\n",
    "from sklearn.metrics import accuracy_score\n",
    "from sklearn.linear_model import SGDClassifier\n",
    "from sklearn.tree import DecisionTreeClassifier\n",
    "from sklearn.linear_model import LogisticRegression\n",
    "from sklearn.ensemble import RandomForestClassifier\n",
    "\n",
    "from sklearn.naive_bayes import GaussianNB\n",
    "from sklearn.svm import SVC\n",
    "from sklearn.neural_network import MLPClassifier\n",
    "import sklearn.metrics\n",
    "from sklearn.neighbors import KNeighborsClassifier \n",
    "from sklearn.metrics import accuracy_score\n",
    "#import matplotlib.pyplot as plt\n",
    "\n",
    "from sklearn.discriminant_analysis import LinearDiscriminantAnalysis as LDA\n",
    "import warnings\n",
    "\n"
   ]
  },
  {
   "cell_type": "code",
   "execution_count": 7,
   "metadata": {},
   "outputs": [
    {
     "name": "stdout",
     "output_type": "stream",
     "text": [
      "24984\n"
     ]
    },
    {
     "name": "stderr",
     "output_type": "stream",
     "text": [
      "C:\\Users\\Code\\Anaconda3\\lib\\site-packages\\ipykernel_launcher.py:4: SettingWithCopyWarning: \n",
      "A value is trying to be set on a copy of a slice from a DataFrame\n",
      "\n",
      "See the caveats in the documentation: http://pandas.pydata.org/pandas-docs/stable/user_guide/indexing.html#returning-a-view-versus-a-copy\n",
      "  after removing the cwd from sys.path.\n",
      "C:\\Users\\Code\\Anaconda3\\lib\\site-packages\\ipykernel_launcher.py:5: SettingWithCopyWarning: \n",
      "A value is trying to be set on a copy of a slice from a DataFrame\n",
      "\n",
      "See the caveats in the documentation: http://pandas.pydata.org/pandas-docs/stable/user_guide/indexing.html#returning-a-view-versus-a-copy\n",
      "  \"\"\"\n",
      "C:\\Users\\Code\\Anaconda3\\lib\\site-packages\\ipykernel_launcher.py:6: SettingWithCopyWarning: \n",
      "A value is trying to be set on a copy of a slice from a DataFrame\n",
      "\n",
      "See the caveats in the documentation: http://pandas.pydata.org/pandas-docs/stable/user_guide/indexing.html#returning-a-view-versus-a-copy\n",
      "  \n",
      "C:\\Users\\Code\\Anaconda3\\lib\\site-packages\\ipykernel_launcher.py:7: SettingWithCopyWarning: \n",
      "A value is trying to be set on a copy of a slice from a DataFrame\n",
      "\n",
      "See the caveats in the documentation: http://pandas.pydata.org/pandas-docs/stable/user_guide/indexing.html#returning-a-view-versus-a-copy\n",
      "  import sys\n",
      "C:\\Users\\Code\\Anaconda3\\lib\\site-packages\\ipykernel_launcher.py:8: SettingWithCopyWarning: \n",
      "A value is trying to be set on a copy of a slice from a DataFrame\n",
      "\n",
      "See the caveats in the documentation: http://pandas.pydata.org/pandas-docs/stable/user_guide/indexing.html#returning-a-view-versus-a-copy\n",
      "  \n"
     ]
    }
   ],
   "source": [
    "#conda install -c conda-forge imbalanced-learn\n",
    "data = pd.read_csv(\"Train.csv\",header = 0)\n",
    "data.dropna(inplace=True,axis=1)\n",
    "data.outcome[data.outcome==1]=0\n",
    "data.outcome[data.outcome==2]=0\n",
    "data.outcome[data.outcome==3]=0\n",
    "data.outcome[data.outcome==4]=1\n",
    "data.outcome[data.outcome==5]=0\n",
    "data.head()\n",
    "print(len(data.outcome[data.outcome==0]))\n",
    "encode_text_dummy(data,'service')\n",
    "encode_text_dummy(data,'flag')\n",
    "encode_text_dummy(data,'protocol_type')\n"
   ]
  },
  {
   "cell_type": "code",
   "execution_count": 8,
   "metadata": {},
   "outputs": [],
   "source": [
    "def data_prepration(x): # preparing data for training and testing as we are going to use different data \n",
    "    #again and again so make a function\n",
    "    x_features= x.ix[:,x.columns != \"outcome\"]\n",
    "    x_labels=x.ix[:,x.columns==\"outcome\"]\n",
    "    x_features_train,x_features_test,x_labels_train,x_labels_test = train_test_split(x_features,x_labels,test_size=0.3)\n",
    "    print(\"length of training data\")\n",
    "    print(len(x_features_train))\n",
    "    print(\"length of test data\")\n",
    "    print(len(x_features_test))\n",
    "    return(x_features_train,x_features_test,x_labels_train,x_labels_test)"
   ]
  },
  {
   "cell_type": "code",
   "execution_count": 9,
   "metadata": {},
   "outputs": [
    {
     "name": "stdout",
     "output_type": "stream",
     "text": [
      "length of training data\n",
      "17635\n",
      "length of test data\n",
      "7558\n"
     ]
    },
    {
     "name": "stderr",
     "output_type": "stream",
     "text": [
      "C:\\Users\\Code\\Anaconda3\\lib\\site-packages\\ipykernel_launcher.py:3: FutureWarning: \n",
      ".ix is deprecated. Please use\n",
      ".loc for label based indexing or\n",
      ".iloc for positional indexing\n",
      "\n",
      "See the documentation here:\n",
      "http://pandas.pydata.org/pandas-docs/stable/user_guide/indexing.html#ix-indexer-is-deprecated\n",
      "  This is separate from the ipykernel package so we can avoid doing imports until\n",
      "C:\\Users\\Code\\Anaconda3\\lib\\site-packages\\pandas\\core\\indexing.py:822: FutureWarning: \n",
      ".ix is deprecated. Please use\n",
      ".loc for label based indexing or\n",
      ".iloc for positional indexing\n",
      "\n",
      "See the documentation here:\n",
      "http://pandas.pydata.org/pandas-docs/stable/user_guide/indexing.html#ix-indexer-is-deprecated\n",
      "  retval = getattr(retval, self.name)._getitem_axis(key, axis=i)\n",
      "C:\\Users\\Code\\Anaconda3\\lib\\site-packages\\ipykernel_launcher.py:4: FutureWarning: \n",
      ".ix is deprecated. Please use\n",
      ".loc for label based indexing or\n",
      ".iloc for positional indexing\n",
      "\n",
      "See the documentation here:\n",
      "http://pandas.pydata.org/pandas-docs/stable/user_guide/indexing.html#ix-indexer-is-deprecated\n",
      "  after removing the cwd from sys.path.\n"
     ]
    }
   ],
   "source": [
    "os = SMOTE(random_state=0) #   We are using SMOTE as the function for oversampling\n",
    "# now we can devided our data into training and test data\n",
    "# Call our method data prepration on our dataset\n",
    "data_train_X,data_test_X,data_train_y,data_test_y=data_prepration(data)\n",
    "columns = data_train_X.columns"
   ]
  },
  {
   "cell_type": "code",
   "execution_count": 11,
   "metadata": {},
   "outputs": [
    {
     "name": "stdout",
     "output_type": "stream",
     "text": [
      "length of oversampled data is  34986\n",
      "Number of normal transcation in oversampled data 17493\n",
      "No.of fraud transcation 17493\n",
      "Proportion of Normal data in oversampled data is  0.5\n",
      "Proportion of fraud data in oversampled data is  0.5\n"
     ]
    },
    {
     "name": "stderr",
     "output_type": "stream",
     "text": [
      "C:\\Users\\Code\\Anaconda3\\lib\\site-packages\\sklearn\\utils\\validation.py:724: DataConversionWarning: A column-vector y was passed when a 1d array was expected. Please change the shape of y to (n_samples, ), for example using ravel().\n",
      "  y = column_or_1d(y, warn=True)\n"
     ]
    }
   ],
   "source": [
    "os_data_X,os_data_y=os.fit_sample(data_train_X,data_train_y)\n",
    "os_data_X = pd.DataFrame(data=os_data_X,columns=columns )\n",
    "os_data_y= pd.DataFrame(data=os_data_y,columns=[\"outcome\"])\n",
    "# we can Check the numbers of our data\n",
    "print(\"length of oversampled data is \",len(os_data_X))\n",
    "print(\"Number of normal transcation in oversampled data\",len(os_data_y[os_data_y[\"outcome\"]==0]))\n",
    "print(\"No.of fraud transcation\",len(os_data_y[os_data_y[\"outcome\"]==1]))\n",
    "print(\"Proportion of Normal data in oversampled data is \",float(len(os_data_y[os_data_y[\"outcome\"]==0]))/float(len(os_data_X)))\n",
    "print(\"Proportion of fraud data in oversampled data is \",float(len(os_data_y[os_data_y[\"outcome\"]==1]))/float(len(os_data_X)))"
   ]
  },
  {
   "cell_type": "code",
   "execution_count": 12,
   "metadata": {},
   "outputs": [
    {
     "data": {
      "text/plain": [
       "(          duration     src_bytes  dst_bytes  land  wrong_fragment  urgent  \\\n",
       " 0         0.000000  0.000000e+00     0.0000   0.0             0.0     0.0   \n",
       " 1         0.000000  8.000000e+00     0.0000   0.0             0.0     0.0   \n",
       " 2         0.000000  2.240000e+02  7775.0000   0.0             0.0     0.0   \n",
       " 3         0.000000  4.600000e+01    46.0000   0.0             0.0     0.0   \n",
       " 4         0.000000  0.000000e+00     0.0000   0.0             0.0     0.0   \n",
       " ...            ...           ...        ...   ...             ...     ...   \n",
       " 34981     0.000000  3.340000e+02     0.0000   0.0             0.0     0.0   \n",
       " 34982  5057.289074  5.133876e+06     0.0000   0.0             0.0     0.0   \n",
       " 34983     1.697400  1.248790e+03  2450.3948   0.0             0.0     0.0   \n",
       " 34984     0.000000  3.340000e+02     0.0000   0.0             0.0     0.0   \n",
       " 34985  5046.513585  5.133876e+06     0.0000   0.0             0.0     0.0   \n",
       " \n",
       "              hot  num_failed_logins  logged_in  num_compromised  ...  \\\n",
       " 0       0.000000                0.0        0.0              0.0  ...   \n",
       " 1       0.000000                0.0        0.0              0.0  ...   \n",
       " 2       0.000000                0.0        1.0              0.0  ...   \n",
       " 3       0.000000                0.0        0.0              0.0  ...   \n",
       " 4       0.000000                0.0        0.0              0.0  ...   \n",
       " ...          ...                ...        ...              ...  ...   \n",
       " 34981   0.000000                0.0        1.0              0.0  ...   \n",
       " 34982   3.871523                0.0        1.0              0.0  ...   \n",
       " 34983  28.000000                0.0        1.0              0.0  ...   \n",
       " 34984   0.000000                0.0        1.0              0.0  ...   \n",
       " 34985   5.683538                0.0        1.0              0.0  ...   \n",
       " \n",
       "        flag-RSTR  flag-S0  flag-S1  flag-S2  flag-S3  flag-SF  flag-SH  \\\n",
       " 0            0.0      1.0      0.0      0.0      0.0      0.0      0.0   \n",
       " 1            0.0      0.0      0.0      0.0      0.0      1.0      0.0   \n",
       " 2            0.0      0.0      0.0      0.0      0.0      1.0      0.0   \n",
       " 3            0.0      0.0      0.0      0.0      0.0      1.0      0.0   \n",
       " 4            0.0      0.0      0.0      0.0      0.0      0.0      0.0   \n",
       " ...          ...      ...      ...      ...      ...      ...      ...   \n",
       " 34981        0.0      0.0      0.0      0.0      0.0      1.0      0.0   \n",
       " 34982        0.0      0.0      0.0      0.0      0.0      1.0      0.0   \n",
       " 34983        0.0      0.0      0.0      0.0      0.0      1.0      0.0   \n",
       " 34984        0.0      0.0      0.0      0.0      0.0      1.0      0.0   \n",
       " 34985        0.0      0.0      0.0      0.0      0.0      1.0      0.0   \n",
       " \n",
       "        protocol_type-icmp  protocol_type-tcp  protocol_type-udp  \n",
       " 0                     0.0                1.0                0.0  \n",
       " 1                     1.0                0.0                0.0  \n",
       " 2                     0.0                1.0                0.0  \n",
       " 3                     0.0                0.0                1.0  \n",
       " 4                     0.0                1.0                0.0  \n",
       " ...                   ...                ...                ...  \n",
       " 34981                 0.0                1.0                0.0  \n",
       " 34982                 0.0                1.0                0.0  \n",
       " 34983                 0.0                1.0                0.0  \n",
       " 34984                 0.0                1.0                0.0  \n",
       " 34985                 0.0                1.0                0.0  \n",
       " \n",
       " [34986 rows x 119 columns],\n",
       "        duration  src_bytes  dst_bytes  land  wrong_fragment  urgent  hot  \\\n",
       " 17797     11854         80        929     0               0       0    0   \n",
       " 449           0          0          0     0               0       0    0   \n",
       " 2230          0          0          0     0               0       0    0   \n",
       " 19528         0         12          0     0               0       0    0   \n",
       " 12036         0        303        660     0               0       0    0   \n",
       " ...         ...        ...        ...   ...             ...     ...  ...   \n",
       " 13808        22        329       1054     0               0       0    6   \n",
       " 22894         0          0          0     0               0       0    0   \n",
       " 13209         0          0          0     0               0       0    0   \n",
       " 16522         0          0          0     0               0       0    0   \n",
       " 22676         0         45        117     0               0       0    0   \n",
       " \n",
       "        num_failed_logins  logged_in  num_compromised  ...  flag-RSTR  flag-S0  \\\n",
       " 17797                  0          1                0  ...          0        0   \n",
       " 449                    0          0                0  ...          0        1   \n",
       " 2230                   0          0                0  ...          0        1   \n",
       " 19528                  0          1                0  ...          0        0   \n",
       " 12036                  0          1                0  ...          0        0   \n",
       " ...                  ...        ...              ...  ...        ...      ...   \n",
       " 13808                  0          1                0  ...          0        0   \n",
       " 22894                  0          0                0  ...          0        1   \n",
       " 13209                  0          0                0  ...          0        1   \n",
       " 16522                  0          0                0  ...          0        1   \n",
       " 22676                  0          0                0  ...          0        0   \n",
       " \n",
       "        flag-S1  flag-S2  flag-S3  flag-SF  flag-SH  protocol_type-icmp  \\\n",
       " 17797        0        0        0        1        0                   0   \n",
       " 449          0        0        0        0        0                   0   \n",
       " 2230         0        0        0        0        0                   0   \n",
       " 19528        0        0        0        1        0                   0   \n",
       " 12036        0        0        0        1        0                   0   \n",
       " ...        ...      ...      ...      ...      ...                 ...   \n",
       " 13808        0        0        0        1        0                   0   \n",
       " 22894        0        0        0        0        0                   0   \n",
       " 13209        0        0        0        0        0                   0   \n",
       " 16522        0        0        0        0        0                   0   \n",
       " 22676        0        0        0        1        0                   0   \n",
       " \n",
       "        protocol_type-tcp  protocol_type-udp  \n",
       " 17797                  1                  0  \n",
       " 449                    1                  0  \n",
       " 2230                   1                  0  \n",
       " 19528                  1                  0  \n",
       " 12036                  1                  0  \n",
       " ...                  ...                ...  \n",
       " 13808                  1                  0  \n",
       " 22894                  1                  0  \n",
       " 13209                  1                  0  \n",
       " 16522                  1                  0  \n",
       " 22676                  0                  1  \n",
       " \n",
       " [7558 rows x 119 columns],\n",
       "        outcome\n",
       " 0            0\n",
       " 1            0\n",
       " 2            0\n",
       " 3            0\n",
       " 4            0\n",
       " ...        ...\n",
       " 34981        1\n",
       " 34982        1\n",
       " 34983        1\n",
       " 34984        1\n",
       " 34985        1\n",
       " \n",
       " [34986 rows x 1 columns],\n",
       "        outcome\n",
       " 17797        0\n",
       " 449          0\n",
       " 2230         0\n",
       " 19528        0\n",
       " 12036        0\n",
       " ...        ...\n",
       " 13808        0\n",
       " 22894        0\n",
       " 13209        0\n",
       " 16522        0\n",
       " 22676        0\n",
       " \n",
       " [7558 rows x 1 columns])"
      ]
     },
     "execution_count": 12,
     "metadata": {},
     "output_type": "execute_result"
    }
   ],
   "source": [
    "os_data_X,data_test_X,os_data_y,data_test_y"
   ]
  },
  {
   "cell_type": "code",
   "execution_count": 10,
   "metadata": {},
   "outputs": [],
   "source": [
    "def data_prepration(x): # preparing data for training and testing as we are going to use different data \n",
    "    #again and again so make a function\n",
    "    x_features= x.ix[:,x.columns != \"outcome\"]\n",
    "    x_labels=x.ix[:,x.columns==\"outcome\"]\n",
    "    x_features_train,x_features_test,x_labels_train,x_labels_test = train_test_split(x_features,x_labels,test_size=0.3)\n",
    "    print(\"length of training data\")\n",
    "    print(len(x_features_train))\n",
    "    print(\"length of test data\")\n",
    "    print(len(x_features_test))\n",
    "    return(x_features_train,x_features_test,x_labels_train,x_labels_test)"
   ]
  },
  {
   "cell_type": "code",
   "execution_count": 13,
   "metadata": {},
   "outputs": [
    {
     "name": "stdout",
     "output_type": "stream",
     "text": [
      "length of training data\n",
      "17635\n",
      "length of test data\n",
      "7558\n"
     ]
    },
    {
     "name": "stderr",
     "output_type": "stream",
     "text": [
      "C:\\Users\\Code\\Anaconda3\\lib\\site-packages\\ipykernel_launcher.py:3: FutureWarning: \n",
      ".ix is deprecated. Please use\n",
      ".loc for label based indexing or\n",
      ".iloc for positional indexing\n",
      "\n",
      "See the documentation here:\n",
      "http://pandas.pydata.org/pandas-docs/stable/user_guide/indexing.html#ix-indexer-is-deprecated\n",
      "  This is separate from the ipykernel package so we can avoid doing imports until\n",
      "C:\\Users\\Code\\Anaconda3\\lib\\site-packages\\pandas\\core\\indexing.py:822: FutureWarning: \n",
      ".ix is deprecated. Please use\n",
      ".loc for label based indexing or\n",
      ".iloc for positional indexing\n",
      "\n",
      "See the documentation here:\n",
      "http://pandas.pydata.org/pandas-docs/stable/user_guide/indexing.html#ix-indexer-is-deprecated\n",
      "  retval = getattr(retval, self.name)._getitem_axis(key, axis=i)\n",
      "C:\\Users\\Code\\Anaconda3\\lib\\site-packages\\ipykernel_launcher.py:4: FutureWarning: \n",
      ".ix is deprecated. Please use\n",
      ".loc for label based indexing or\n",
      ".iloc for positional indexing\n",
      "\n",
      "See the documentation here:\n",
      "http://pandas.pydata.org/pandas-docs/stable/user_guide/indexing.html#ix-indexer-is-deprecated\n",
      "  after removing the cwd from sys.path.\n"
     ]
    }
   ],
   "source": [
    "data_train_X,data_test_X,data_train_y,data_test_y=data_prepration(data)\n"
   ]
  },
  {
   "cell_type": "code",
   "execution_count": 17,
   "metadata": {},
   "outputs": [
    {
     "name": "stderr",
     "output_type": "stream",
     "text": [
      "C:\\Users\\Code\\Anaconda3\\lib\\site-packages\\ipykernel_launcher.py:5: SettingWithCopyWarning: \n",
      "A value is trying to be set on a copy of a slice from a DataFrame\n",
      "\n",
      "See the caveats in the documentation: http://pandas.pydata.org/pandas-docs/stable/user_guide/indexing.html#returning-a-view-versus-a-copy\n",
      "  \"\"\"\n",
      "C:\\Users\\Code\\Anaconda3\\lib\\site-packages\\ipykernel_launcher.py:6: SettingWithCopyWarning: \n",
      "A value is trying to be set on a copy of a slice from a DataFrame\n",
      "\n",
      "See the caveats in the documentation: http://pandas.pydata.org/pandas-docs/stable/user_guide/indexing.html#returning-a-view-versus-a-copy\n",
      "  \n",
      "C:\\Users\\Code\\Anaconda3\\lib\\site-packages\\ipykernel_launcher.py:7: SettingWithCopyWarning: \n",
      "A value is trying to be set on a copy of a slice from a DataFrame\n",
      "\n",
      "See the caveats in the documentation: http://pandas.pydata.org/pandas-docs/stable/user_guide/indexing.html#returning-a-view-versus-a-copy\n",
      "  import sys\n",
      "C:\\Users\\Code\\Anaconda3\\lib\\site-packages\\ipykernel_launcher.py:8: SettingWithCopyWarning: \n",
      "A value is trying to be set on a copy of a slice from a DataFrame\n",
      "\n",
      "See the caveats in the documentation: http://pandas.pydata.org/pandas-docs/stable/user_guide/indexing.html#returning-a-view-versus-a-copy\n",
      "  \n",
      "C:\\Users\\Code\\Anaconda3\\lib\\site-packages\\ipykernel_launcher.py:9: SettingWithCopyWarning: \n",
      "A value is trying to be set on a copy of a slice from a DataFrame\n",
      "\n",
      "See the caveats in the documentation: http://pandas.pydata.org/pandas-docs/stable/user_guide/indexing.html#returning-a-view-versus-a-copy\n",
      "  if __name__ == '__main__':\n",
      "C:\\Users\\Code\\Anaconda3\\lib\\site-packages\\ipykernel_launcher.py:41: FutureWarning: Method .as_matrix will be removed in a future version. Use .values instead.\n",
      "C:\\Users\\Code\\Anaconda3\\lib\\site-packages\\ipykernel_launcher.py:42: FutureWarning: Method .as_matrix will be removed in a future version. Use .values instead.\n"
     ]
    },
    {
     "name": "stdout",
     "output_type": "stream",
     "text": [
      "Total Records: 11855\n",
      "Normal 8970\n",
      "Fraud 2885\n",
      "% of Normal Record 75.6642766765078\n",
      "% of Fraud Record 24.335723323492196\n"
     ]
    },
    {
     "data": {
      "image/png": "[encoded data removed]",
      "text/plain": [
       "<Figure size 432x288 with 1 Axes>"
      ]
     },
     "metadata": {
      "needs_background": "light"
     },
     "output_type": "display_data"
    },
    {
     "data": {
      "image/png": "[encoded data removed]",
      "text/plain": [
       "<Figure size 720x432 with 2 Axes>"
      ]
     },
     "metadata": {
      "needs_background": "light"
     },
     "output_type": "display_data"
    }
   ],
   "source": [
    "import seaborn as sns # for intractve graphs\n",
    "import matplotlib.pyplot as plt # to plot graph\n",
    "data1=pd.read_csv('Test.csv')\n",
    "data1.dropna(inplace=True,axis=1)\n",
    "data1.outcome[data1.outcome==1]=0\n",
    "data1.outcome[data1.outcome==2]=0\n",
    "data1.outcome[data1.outcome==3]=0\n",
    "data1.outcome[data1.outcome==4]=1\n",
    "data1.outcome[data1.outcome==5]=0\n",
    "\n",
    "\n",
    "encode_text_dummy(data1,'service')\n",
    "encode_text_dummy(data1,'protocol_type')\n",
    "encode_text_dummy(data1,'flag')\n",
    "\n",
    "\n",
    "sns.countplot(\"outcome\",data=data1)\n",
    "count_normal = len(data1[data1[\"outcome\"]==0]) # normal transaction are repersented by 0\n",
    "count_fraud = len(data1[data1[\"outcome\"]==1]) # fraud by 1\n",
    "total_record=count_normal+count_fraud\n",
    "print('Total Records:',total_record)\n",
    "print('Normal',count_normal)\n",
    "print('Fraud',count_fraud)\n",
    "print('% of Normal Record',float(count_normal)/float(total_record)*100)\n",
    "print('% of Fraud Record',float(count_fraud)/float(total_record)*100)\n",
    "\n",
    "#plot\n",
    "\n",
    "Fraud_transacation = data1[data1[\"outcome\"]==1]\n",
    "Normal_transacation= data1[data1[\"outcome\"]==0]\n",
    "plt.figure(figsize=(10,6))\n",
    "plt.subplot(121)\n",
    "Fraud_transacation.outcome.plot.hist(title=\"Fraud Transacation\")\n",
    "plt.subplot(122)\n",
    "Normal_transacation.outcome.plot.hist(title=\"Normal Transaction\")\n",
    "\n",
    "f=pd.concat([data1])\n",
    "del f['outcome']\n",
    "\n",
    "data1.head()\n",
    "x = f.as_matrix()\n",
    "y = data1['outcome'].as_matrix()\n"
   ]
  },
  {
   "cell_type": "code",
   "execution_count": 22,
   "metadata": {},
   "outputs": [
    {
     "name": "stdout",
     "output_type": "stream",
     "text": [
      "DT-Oversampling-Training Set- Accuracy is  99.77507277057423\n",
      "DT-Oversampling-Test Set- Accuracy is  76.89582454660481\n"
     ]
    }
   ],
   "source": [
    "dt=DecisionTreeClassifier()\n",
    "dt.fit(data_train_X,data_train_y)  \n",
    "predictions= dt.predict(data_test_X)\n",
    "t2=accuracy_score(data_test_y, predictions)*100\n",
    "print(\"DT-Oversampling-Training Set- Accuracy is \", t2)\n",
    "b= dt.predict(x)\n",
    "print(\"DT-Oversampling-Test Set- Accuracy is \", accuracy_score(y, b)*100)"
   ]
  },
  {
   "cell_type": "code",
   "execution_count": 20,
   "metadata": {
    "scrolled": true
   },
   "outputs": [
    {
     "name": "stderr",
     "output_type": "stream",
     "text": [
      "C:\\Users\\Code\\Anaconda3\\lib\\site-packages\\sklearn\\neural_network\\multilayer_perceptron.py:921: DataConversionWarning: A column-vector y was passed when a 1d array was expected. Please change the shape of y to (n_samples, ), for example using ravel().\n",
      "  y = column_or_1d(y, warn=True)\n"
     ]
    },
    {
     "name": "stdout",
     "output_type": "stream",
     "text": [
      "MLP-SMOTE-Training Set- Accuracy is  99.77507277057423\n",
      "MLP-SMOTE-Test Set- Accuracy is  74.23028258118937\n"
     ]
    },
    {
     "name": "stderr",
     "output_type": "stream",
     "text": [
      "C:\\Users\\Code\\Anaconda3\\lib\\site-packages\\sklearn\\neural_network\\multilayer_perceptron.py:566: ConvergenceWarning: Stochastic Optimizer: Maximum iterations (200) reached and the optimization hasn't converged yet.\n",
      "  % self.max_iter, ConvergenceWarning)\n"
     ]
    }
   ],
   "source": [
    "nw=MLPClassifier()\n",
    "nw.fit(data_train_X,data_train_y)  \n",
    "predictions= dt.predict(data_test_X)\n",
    "t2=accuracy_score(data_test_y, predictions)*100\n",
    "print(\"MLP-SMOTE-Training Set- Accuracy is \", t2)\n",
    "b= nw.predict(x)\n",
    "print(\"MLP-SMOTE-Test Set- Accuracy is \", accuracy_score(y, b)*100)"
   ]
  },
  {
   "cell_type": "code",
   "execution_count": 21,
   "metadata": {},
   "outputs": [
    {
     "name": "stderr",
     "output_type": "stream",
     "text": [
      "C:\\Users\\Code\\Anaconda3\\lib\\site-packages\\ipykernel_launcher.py:2: DataConversionWarning: A column-vector y was passed when a 1d array was expected. Please change the shape of y to (n_samples, ), for example using ravel().\n",
      "  \n"
     ]
    },
    {
     "name": "stdout",
     "output_type": "stream",
     "text": [
      "KNN-SMOTE-Training Set- Accuracy is  99.77507277057423\n",
      "KNN-SMOTE-Test Set- Accuracy is  75.6642766765078\n"
     ]
    }
   ],
   "source": [
    "knn=KNeighborsClassifier(n_neighbors=5)\n",
    "knn.fit(data_train_X,data_train_y)  \n",
    "predictions= dt.predict(data_test_X)\n",
    "t2=accuracy_score(data_test_y, predictions)*100\n",
    "print(\"KNN-SMOTE-Training Set- Accuracy is \", t2)\n",
    "b= knn.predict(x)\n",
    "print(\"KNN-SMOTE-Test Set- Accuracy is \", accuracy_score(y, b)*100)"
   ]
  }
 ],
 "metadata": {
  "anaconda-cloud": {},
  "kernelspec": {
   "display_name": "Python 3",
   "language": "python",
   "name": "python3"
  },
  "language_info": {
   "codemirror_mode": {
    "name": "ipython",
    "version": 3
   },
   "file_extension": ".py",
   "mimetype": "text/x-python",
   "name": "python",
   "nbconvert_exporter": "python",
   "pygments_lexer": "ipython3",
   "version": "3.7.4"
  }
 },
 "nbformat": 4,
 "nbformat_minor": 1
}
