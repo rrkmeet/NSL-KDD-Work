{
 "cells": [
  {
   "cell_type": "code",
   "execution_count": 1,
   "metadata": {},
   "outputs": [],
   "source": [
    "def encode_text_dummy(df,name):\n",
    "    dummies=pd.get_dummies(df[name])\n",
    "    for x in dummies.columns:\n",
    "        dummy_name=\"{}-{}\".format(name,x)\n",
    "        df[dummy_name]=dummies[x]\n",
    "    df.drop(name,axis=1,inplace=True)"
   ]
  },
  {
   "cell_type": "code",
   "execution_count": 6,
   "metadata": {},
   "outputs": [],
   "source": [
    "import pandas as pd # to import csv and for data manipulation\n",
    "#import matplotlib.pyplot as plt # to plot graph\n",
    "#import seaborn as sns # for intractve graphs\n",
    "from imblearn.over_sampling import SMOTE\n",
    "import numpy as np # for linear algebra\n",
    "from sklearn.ensemble import AdaBoostClassifier\n",
    "import datetime # to dela with date and time\n",
    "#import seaborn as sns\n",
    "import numpy as np\n",
    "#%matplotlib inline\n",
    "from sklearn.preprocessing import StandardScaler # for preprocessing the data\n",
    "from sklearn.model_selection import train_test_split # to split the data\n",
    "from sklearn.metrics import confusion_matrix,recall_score,precision_recall_curve,auc,roc_curve,roc_auc_score,classification_report\n",
    "from sklearn.metrics import accuracy_score\n",
    "from sklearn.linear_model import SGDClassifier\n",
    "from sklearn.tree import DecisionTreeClassifier\n",
    "from sklearn.linear_model import LogisticRegression\n",
    "from sklearn.ensemble import RandomForestClassifier\n",
    "from sklearn.ensemble import GradientBoostingClassifier\n",
    "from sklearn.naive_bayes import GaussianNB\n",
    "from sklearn.svm import SVC\n",
    "from sklearn.neural_network import MLPClassifier\n",
    "import sklearn.metrics\n",
    "from sklearn.neighbors import KNeighborsClassifier \n",
    "from sklearn.metrics import accuracy_score\n",
    "#import matplotlib.pyplot as plt\n",
    "\n",
    "from sklearn.discriminant_analysis import LinearDiscriminantAnalysis as LDA\n",
    "import warnings\n",
    "\n"
   ]
  },
  {
   "cell_type": "code",
   "execution_count": 7,
   "metadata": {},
   "outputs": [
    {
     "name": "stderr",
     "output_type": "stream",
     "text": [
      "C:\\Users\\RajaKumar\\Anaconda2\\lib\\site-packages\\ipykernel_launcher.py:3: SettingWithCopyWarning: \n",
      "A value is trying to be set on a copy of a slice from a DataFrame\n",
      "\n",
      "See the caveats in the documentation: http://pandas.pydata.org/pandas-docs/stable/indexing.html#indexing-view-versus-copy\n",
      "  This is separate from the ipykernel package so we can avoid doing imports until\n",
      "C:\\Users\\RajaKumar\\Anaconda2\\lib\\site-packages\\ipykernel_launcher.py:4: SettingWithCopyWarning: \n",
      "A value is trying to be set on a copy of a slice from a DataFrame\n",
      "\n",
      "See the caveats in the documentation: http://pandas.pydata.org/pandas-docs/stable/indexing.html#indexing-view-versus-copy\n",
      "  after removing the cwd from sys.path.\n",
      "C:\\Users\\RajaKumar\\Anaconda2\\lib\\site-packages\\ipykernel_launcher.py:5: SettingWithCopyWarning: \n",
      "A value is trying to be set on a copy of a slice from a DataFrame\n",
      "\n",
      "See the caveats in the documentation: http://pandas.pydata.org/pandas-docs/stable/indexing.html#indexing-view-versus-copy\n",
      "  \"\"\"\n",
      "C:\\Users\\RajaKumar\\Anaconda2\\lib\\site-packages\\ipykernel_launcher.py:6: SettingWithCopyWarning: \n",
      "A value is trying to be set on a copy of a slice from a DataFrame\n",
      "\n",
      "See the caveats in the documentation: http://pandas.pydata.org/pandas-docs/stable/indexing.html#indexing-view-versus-copy\n",
      "  \n",
      "C:\\Users\\RajaKumar\\Anaconda2\\lib\\site-packages\\ipykernel_launcher.py:7: SettingWithCopyWarning: \n",
      "A value is trying to be set on a copy of a slice from a DataFrame\n",
      "\n",
      "See the caveats in the documentation: http://pandas.pydata.org/pandas-docs/stable/indexing.html#indexing-view-versus-copy\n",
      "  import sys\n"
     ]
    },
    {
     "name": "stdout",
     "output_type": "stream",
     "text": [
      "24983\n"
     ]
    }
   ],
   "source": [
    "data = pd.read_csv(\"train_data.csv\",header = 0)\n",
    "data.dropna(inplace=True,axis=1)\n",
    "data.xAttack[data.xAttack==1]=0\n",
    "data.xAttack[data.xAttack==2]=0\n",
    "data.xAttack[data.xAttack==3]=0\n",
    "data.xAttack[data.xAttack==4]=1\n",
    "data.xAttack[data.xAttack==5]=0\n",
    "data.head()\n",
    "print len(data.xAttack[data.xAttack==0])\n",
    "encode_text_dummy(data,'service')\n",
    "encode_text_dummy(data,'flag')\n",
    "\n"
   ]
  },
  {
   "cell_type": "code",
   "execution_count": 8,
   "metadata": {},
   "outputs": [],
   "source": [
    "def data_prepration(x): # preparing data for training and testing as we are going to use different data \n",
    "    #again and again so make a function\n",
    "    x_features= x.ix[:,x.columns != \"xAttack\"]\n",
    "    x_labels=x.ix[:,x.columns==\"xAttack\"]\n",
    "    x_features_train,x_features_test,x_labels_train,x_labels_test = train_test_split(x_features,x_labels,test_size=0.3)\n",
    "    print(\"length of training data\")\n",
    "    print(len(x_features_train))\n",
    "    print(\"length of test data\")\n",
    "    print(len(x_features_test))\n",
    "    return(x_features_train,x_features_test,x_labels_train,x_labels_test)"
   ]
  },
  {
   "cell_type": "code",
   "execution_count": 9,
   "metadata": {},
   "outputs": [
    {
     "name": "stdout",
     "output_type": "stream",
     "text": [
      "length of training data\n",
      "17634\n",
      "length of test data\n",
      "7558\n"
     ]
    },
    {
     "name": "stderr",
     "output_type": "stream",
     "text": [
      "C:\\Users\\RajaKumar\\Anaconda2\\lib\\site-packages\\ipykernel_launcher.py:3: DeprecationWarning: \n",
      ".ix is deprecated. Please use\n",
      ".loc for label based indexing or\n",
      ".iloc for positional indexing\n",
      "\n",
      "See the documentation here:\n",
      "http://pandas.pydata.org/pandas-docs/stable/indexing.html#ix-indexer-is-deprecated\n",
      "  This is separate from the ipykernel package so we can avoid doing imports until\n",
      "C:\\Users\\RajaKumar\\Anaconda2\\lib\\site-packages\\ipykernel_launcher.py:4: DeprecationWarning: \n",
      ".ix is deprecated. Please use\n",
      ".loc for label based indexing or\n",
      ".iloc for positional indexing\n",
      "\n",
      "See the documentation here:\n",
      "http://pandas.pydata.org/pandas-docs/stable/indexing.html#ix-indexer-is-deprecated\n",
      "  after removing the cwd from sys.path.\n"
     ]
    }
   ],
   "source": [
    "os = SMOTE(random_state=0) #   We are using SMOTE as the function for oversampling\n",
    "# now we can devided our data into training and test data\n",
    "# Call our method data prepration on our dataset\n",
    "data_train_X,data_test_X,data_train_y,data_test_y=data_prepration(data)\n",
    "columns = data_train_X.columns"
   ]
  },
  {
   "cell_type": "code",
   "execution_count": 10,
   "metadata": {},
   "outputs": [
    {
     "name": "stderr",
     "output_type": "stream",
     "text": [
      "C:\\Users\\RajaKumar\\Anaconda2\\lib\\site-packages\\sklearn\\utils\\validation.py:578: DataConversionWarning: A column-vector y was passed when a 1d array was expected. Please change the shape of y to (n_samples, ), for example using ravel().\n",
      "  y = column_or_1d(y, warn=True)\n"
     ]
    },
    {
     "name": "stdout",
     "output_type": "stream",
     "text": [
      "('length of oversampled data is ', 34978)\n",
      "('Number of normal transcation in oversampled data', 17489)\n",
      "('No.of fraud transcation', 17489)\n",
      "('Proportion of Normal data in oversampled data is ', 0.5)\n",
      "('Proportion of fraud data in oversampled data is ', 0.5)\n"
     ]
    }
   ],
   "source": [
    "os_data_X,os_data_y=os.fit_sample(data_train_X,data_train_y)\n",
    "os_data_X = pd.DataFrame(data=os_data_X,columns=columns )\n",
    "os_data_y= pd.DataFrame(data=os_data_y,columns=[\"xAttack\"])\n",
    "# we can Check the numbers of our data\n",
    "print(\"length of oversampled data is \",len(os_data_X))\n",
    "print(\"Number of normal transcation in oversampled data\",len(os_data_y[os_data_y[\"xAttack\"]==0]))\n",
    "print(\"No.of fraud transcation\",len(os_data_y[os_data_y[\"xAttack\"]==1]))\n",
    "print(\"Proportion of Normal data in oversampled data is \",float(len(os_data_y[os_data_y[\"xAttack\"]==0]))/float(len(os_data_X)))\n",
    "print(\"Proportion of fraud data in oversampled data is \",float(len(os_data_y[os_data_y[\"xAttack\"]==1]))/float(len(os_data_X)))"
   ]
  },
  {
   "cell_type": "code",
   "execution_count": null,
   "metadata": {},
   "outputs": [],
   "source": [
    "os_data_X,data_test_X,os_data_y,data_test_y"
   ]
  },
  {
   "cell_type": "code",
   "execution_count": 10,
   "metadata": {},
   "outputs": [],
   "source": [
    "def data_prepration(x): # preparing data for training and testing as we are going to use different data \n",
    "    #again and again so make a function\n",
    "    x_features= x.ix[:,x.columns != \"xAttack\"]\n",
    "    x_labels=x.ix[:,x.columns==\"xAttack\"]\n",
    "    x_features_train,x_features_test,x_labels_train,x_labels_test = train_test_split(x_features,x_labels,test_size=0.3)\n",
    "    print(\"length of training data\")\n",
    "    print(len(x_features_train))\n",
    "    print(\"length of test data\")\n",
    "    print(len(x_features_test))\n",
    "    return(x_features_train,x_features_test,x_labels_train,x_labels_test)"
   ]
  },
  {
   "cell_type": "code",
   "execution_count": 11,
   "metadata": {},
   "outputs": [
    {
     "name": "stdout",
     "output_type": "stream",
     "text": [
      "length of training data\n",
      "17634\n",
      "length of test data\n",
      "7558\n"
     ]
    },
    {
     "name": "stderr",
     "output_type": "stream",
     "text": [
      "C:\\Users\\RajaKumar\\Anaconda3\\lib\\site-packages\\ipykernel_launcher.py:3: DeprecationWarning: \n",
      ".ix is deprecated. Please use\n",
      ".loc for label based indexing or\n",
      ".iloc for positional indexing\n",
      "\n",
      "See the documentation here:\n",
      "http://pandas.pydata.org/pandas-docs/stable/indexing.html#ix-indexer-is-deprecated\n",
      "  This is separate from the ipykernel package so we can avoid doing imports until\n",
      "C:\\Users\\RajaKumar\\Anaconda3\\lib\\site-packages\\ipykernel_launcher.py:4: DeprecationWarning: \n",
      ".ix is deprecated. Please use\n",
      ".loc for label based indexing or\n",
      ".iloc for positional indexing\n",
      "\n",
      "See the documentation here:\n",
      "http://pandas.pydata.org/pandas-docs/stable/indexing.html#ix-indexer-is-deprecated\n",
      "  after removing the cwd from sys.path.\n"
     ]
    }
   ],
   "source": [
    "data_train_X,data_test_X,data_train_y,data_test_y=data_prepration(data)\n"
   ]
  },
  {
   "cell_type": "code",
   "execution_count": 16,
   "metadata": {},
   "outputs": [
    {
     "name": "stdout",
     "output_type": "stream",
     "text": [
      "34978\n",
      "34978\n"
     ]
    },
    {
     "name": "stderr",
     "output_type": "stream",
     "text": [
      "C:\\Users\\RajaKumar\\Anaconda2\\lib\\site-packages\\ipykernel_launcher.py:38: DataConversionWarning: A column-vector y was passed when a 1d array was expected. Please change the shape of y to (n_samples,), for example using ravel().\n",
      "C:\\Users\\RajaKumar\\Anaconda2\\lib\\site-packages\\ipykernel_launcher.py:29: DataConversionWarning: A column-vector y was passed when a 1d array was expected. Please change the shape of y to (n_samples, ), for example using ravel().\n",
      "C:\\Users\\RajaKumar\\Anaconda2\\lib\\site-packages\\sklearn\\neural_network\\multilayer_perceptron.py:912: DataConversionWarning: A column-vector y was passed when a 1d array was expected. Please change the shape of y to (n_samples, ), for example using ravel().\n",
      "  y = column_or_1d(y, warn=True)\n"
     ]
    }
   ],
   "source": [
    "\n",
    "os_data_X,data_test_X,os_data_y,data_test_y\n",
    "print(len(os_data_X))\n",
    "print(len(os_data_y))\n",
    "\n",
    "a=DTTrain(os_data_X,os_data_y,data_test_X)\n",
    "b=GBTTrain(os_data_X,os_data_y,data_test_X)\n",
    "c=RFTrain(os_data_X,os_data_y,data_test_X)\n",
    "d=NBTrain(os_data_X,os_data_y,data_test_X)\n",
    "e=KNN(os_data_X,os_data_y,data_test_X)\n",
    "f=MLP(os_data_X,os_data_y,data_test_X)\n",
    "\n",
    "predt=pd.concat([a,b,c,d,e,f],axis=1)\n",
    "predt.to_csv('predicted.csv',index=False)\n",
    "predt.head()\n",
    "data_test_y.to_csv('x.csv',index=False)\n",
    "feature=pd.read_csv('predicted.csv')\n",
    "yfeature=pd.read_csv('x.csv')\n",
    "final=pd.concat([feature,yfeature],axis=1)\n",
    "final.head()\n",
    "final.to_csv('s1.csv',index=False)\n",
    "\n"
   ]
  },
  {
   "cell_type": "code",
   "execution_count": 15,
   "metadata": {
    "scrolled": true
   },
   "outputs": [],
   "source": [
    "dt=0\n",
    "rf=0\n",
    "gbt=0\n",
    "nb=0\n",
    "knn=0\n",
    "mlp=0\n",
    "\n",
    "def NBTrain(x_train,y_train,x_test):  \n",
    "    global nb\n",
    "    nb=AdaBoostClassifier()\n",
    "    nb.fit(x_train,y_train)\n",
    "    prediction=nb.predict(x_test)\n",
    "    predictionDF=pd.DataFrame(prediction,columns=['Prediction'])\n",
    "    return predictionDF\n",
    "\n",
    "def DTTrain(X_train,y_train,X_test):  \n",
    "    global dt\n",
    "    dt=DecisionTreeClassifier()\n",
    "    dt.fit(X_train,y_train)\n",
    "\n",
    "    prediction=dt.predict(X_test)\n",
    "    predictionDF=pd.DataFrame(prediction,columns=['Prediction'])\n",
    "    \n",
    "    return predictionDF\n",
    "\n",
    "def KNN(X_train,y_train,X_test):  \n",
    "    global knn\n",
    "    knn=KNeighborsClassifier(n_neighbors=5)\n",
    "    knn.fit(X_train,y_train)\n",
    "    prediction=knn.predict(X_test)\n",
    "    predictionDF=pd.DataFrame(prediction,columns=['Prediction'])\n",
    "    \n",
    "    return predictionDF\n",
    "\n",
    "def RFTrain(X_train,y_train,X_test):  \n",
    "    global rf\n",
    "    rf=RandomForestClassifier()\n",
    "    rf.fit(X_train,y_train)\n",
    "\n",
    "    prediction=rf.predict(X_test)\n",
    "    predictionDF=pd.DataFrame(prediction,columns=['Prediction'])\n",
    "   \n",
    "    return predictionDF\n",
    "\n",
    "def GBTTrain(X_train,y_train,X_test):  \n",
    "    global gbt\n",
    "    gbt=GradientBoostingClassifier()\n",
    "    gbt.fit(X_train,y_train)\n",
    "    prediction=gbt.predict(X_test)\n",
    "    predictionDF=pd.DataFrame(prediction,columns=['Prediction'])\n",
    "   \n",
    "    return predictionDF\n",
    "\n",
    "def MLP(X_train,y_train,X_test):  \n",
    "    global mlp\n",
    "    mlp=MLPClassifier()\n",
    "    mlp.fit(X_train,y_train)\n",
    "    prediction=mlp.predict(X_test)\n",
    "    predictionDF=pd.DataFrame(prediction,columns=['Prediction'])\n",
    "   \n",
    "    return predictionDF"
   ]
  },
  {
   "cell_type": "code",
   "execution_count": 27,
   "metadata": {},
   "outputs": [
    {
     "name": "stdout",
     "output_type": "stream",
     "text": [
      "('Stacking-Training Set Accuracy:', 99.80119284294234)\n"
     ]
    },
    {
     "name": "stderr",
     "output_type": "stream",
     "text": [
      "C:\\Users\\RajaKumar\\Anaconda2\\lib\\site-packages\\ipykernel_launcher.py:6: FutureWarning: Method .as_matrix will be removed in a future version. Use .values instead.\n",
      "  \n"
     ]
    }
   ],
   "source": [
    "from sklearn.model_selection import KFold\n",
    "fff=pd.read_csv('s1.csv')\n",
    "fff.head()\n",
    "df=pd.concat([fff])\n",
    "del df['xAttack']\n",
    "X=df.as_matrix()\n",
    "Y=fff['xAttack']\n",
    "\n",
    "\n",
    "kf = KFold(n_splits=15, shuffle=True) \n",
    "sum=0\n",
    "\n",
    "for train_index, test_index in kf.split(X):\n",
    "      #print(\"Train:\", train_index, \"Validation:\",test_index)\n",
    "    X_train, X_test = X[train_index], X[test_index] \n",
    "    y_train, y_test = Y[train_index], Y[test_index]\n",
    "\n",
    "dr=DecisionTreeClassifier()\n",
    "dr.fit(X_train,y_train)\n",
    "pred=dr.predict(X_test)\n",
    "avg=accuracy_score(y_test, pred)*100\n",
    "print(\"Stacking-Training Set Accuracy:\",avg)"
   ]
  },
  {
   "cell_type": "code",
   "execution_count": 28,
   "metadata": {},
   "outputs": [
    {
     "name": "stderr",
     "output_type": "stream",
     "text": [
      "C:\\Users\\RajaKumar\\Anaconda2\\lib\\site-packages\\ipykernel_launcher.py:3: SettingWithCopyWarning: \n",
      "A value is trying to be set on a copy of a slice from a DataFrame\n",
      "\n",
      "See the caveats in the documentation: http://pandas.pydata.org/pandas-docs/stable/indexing.html#indexing-view-versus-copy\n",
      "  This is separate from the ipykernel package so we can avoid doing imports until\n",
      "C:\\Users\\RajaKumar\\Anaconda2\\lib\\site-packages\\ipykernel_launcher.py:4: SettingWithCopyWarning: \n",
      "A value is trying to be set on a copy of a slice from a DataFrame\n",
      "\n",
      "See the caveats in the documentation: http://pandas.pydata.org/pandas-docs/stable/indexing.html#indexing-view-versus-copy\n",
      "  after removing the cwd from sys.path.\n",
      "C:\\Users\\RajaKumar\\Anaconda2\\lib\\site-packages\\ipykernel_launcher.py:5: SettingWithCopyWarning: \n",
      "A value is trying to be set on a copy of a slice from a DataFrame\n",
      "\n",
      "See the caveats in the documentation: http://pandas.pydata.org/pandas-docs/stable/indexing.html#indexing-view-versus-copy\n",
      "  \"\"\"\n",
      "C:\\Users\\RajaKumar\\Anaconda2\\lib\\site-packages\\ipykernel_launcher.py:6: SettingWithCopyWarning: \n",
      "A value is trying to be set on a copy of a slice from a DataFrame\n",
      "\n",
      "See the caveats in the documentation: http://pandas.pydata.org/pandas-docs/stable/indexing.html#indexing-view-versus-copy\n",
      "  \n",
      "C:\\Users\\RajaKumar\\Anaconda2\\lib\\site-packages\\ipykernel_launcher.py:7: SettingWithCopyWarning: \n",
      "A value is trying to be set on a copy of a slice from a DataFrame\n",
      "\n",
      "See the caveats in the documentation: http://pandas.pydata.org/pandas-docs/stable/indexing.html#indexing-view-versus-copy\n",
      "  import sys\n",
      "C:\\Users\\RajaKumar\\Anaconda2\\lib\\site-packages\\ipykernel_launcher.py:33: FutureWarning: Method .as_matrix will be removed in a future version. Use .values instead.\n",
      "C:\\Users\\RajaKumar\\Anaconda2\\lib\\site-packages\\ipykernel_launcher.py:34: FutureWarning: Method .as_matrix will be removed in a future version. Use .values instead.\n"
     ]
    },
    {
     "name": "stdout",
     "output_type": "stream",
     "text": [
      "('Total Records:', 11858)\n",
      "('Normal', 8973)\n",
      "('Fraud', 2885)\n",
      "('% of Normal Record', 75.67043346264126)\n",
      "('% of Fraud Record', 24.329566537358748)\n"
     ]
    },
    {
     "data": {
      "text/html": [
       "<div>\n",
       "<style scoped>\n",
       "    .dataframe tbody tr th:only-of-type {\n",
       "        vertical-align: middle;\n",
       "    }\n",
       "\n",
       "    .dataframe tbody tr th {\n",
       "        vertical-align: top;\n",
       "    }\n",
       "\n",
       "    .dataframe thead th {\n",
       "        text-align: right;\n",
       "    }\n",
       "</style>\n",
       "<table border=\"1\" class=\"dataframe\">\n",
       "  <thead>\n",
       "    <tr style=\"text-align: right;\">\n",
       "      <th></th>\n",
       "      <th>0</th>\n",
       "      <th>0</th>\n",
       "      <th>0</th>\n",
       "      <th>0</th>\n",
       "      <th>0</th>\n",
       "      <th>0</th>\n",
       "      <th>class</th>\n",
       "    </tr>\n",
       "  </thead>\n",
       "  <tbody>\n",
       "    <tr>\n",
       "      <th>0</th>\n",
       "      <td>0</td>\n",
       "      <td>0</td>\n",
       "      <td>0</td>\n",
       "      <td>0</td>\n",
       "      <td>0</td>\n",
       "      <td>0</td>\n",
       "      <td>0</td>\n",
       "    </tr>\n",
       "    <tr>\n",
       "      <th>1</th>\n",
       "      <td>0</td>\n",
       "      <td>0</td>\n",
       "      <td>0</td>\n",
       "      <td>0</td>\n",
       "      <td>0</td>\n",
       "      <td>0</td>\n",
       "      <td>0</td>\n",
       "    </tr>\n",
       "    <tr>\n",
       "      <th>2</th>\n",
       "      <td>0</td>\n",
       "      <td>0</td>\n",
       "      <td>0</td>\n",
       "      <td>0</td>\n",
       "      <td>0</td>\n",
       "      <td>0</td>\n",
       "      <td>0</td>\n",
       "    </tr>\n",
       "    <tr>\n",
       "      <th>3</th>\n",
       "      <td>0</td>\n",
       "      <td>0</td>\n",
       "      <td>0</td>\n",
       "      <td>0</td>\n",
       "      <td>0</td>\n",
       "      <td>0</td>\n",
       "      <td>0</td>\n",
       "    </tr>\n",
       "    <tr>\n",
       "      <th>4</th>\n",
       "      <td>0</td>\n",
       "      <td>0</td>\n",
       "      <td>0</td>\n",
       "      <td>0</td>\n",
       "      <td>0</td>\n",
       "      <td>0</td>\n",
       "      <td>0</td>\n",
       "    </tr>\n",
       "  </tbody>\n",
       "</table>\n",
       "</div>"
      ],
      "text/plain": [
       "   0  0  0  0  0  0  class\n",
       "0  0  0  0  0  0  0      0\n",
       "1  0  0  0  0  0  0      0\n",
       "2  0  0  0  0  0  0      0\n",
       "3  0  0  0  0  0  0      0\n",
       "4  0  0  0  0  0  0      0"
      ]
     },
     "execution_count": 28,
     "metadata": {},
     "output_type": "execute_result"
    }
   ],
   "source": [
    "data1=pd.read_csv('test_data.csv')\n",
    "data1.dropna(inplace=True,axis=1)\n",
    "data1.xAttack[data1.xAttack==1]=0\n",
    "data1.xAttack[data1.xAttack==2]=0\n",
    "data1.xAttack[data1.xAttack==3]=0\n",
    "data1.xAttack[data1.xAttack==4]=1\n",
    "data1.xAttack[data1.xAttack==5]=0\n",
    "\n",
    "\n",
    "encode_text_dummy(data1,'service')\n",
    "encode_text_dummy(data1,'flag')\n",
    "\n",
    "\n",
    "#sns.countplot(\"xAttack\",data=data1)\n",
    "count_normal = len(data1[data1[\"xAttack\"]==0]) # normal transaction are repersented by 0\n",
    "count_fraud = len(data1[data1[\"xAttack\"]==1]) # fraud by 1\n",
    "total_record=count_normal+count_fraud\n",
    "print('Total Records:',total_record)\n",
    "print('Normal',count_normal)\n",
    "print('Fraud',count_fraud)\n",
    "print('% of Normal Record',float(count_normal)/float(total_record)*100)\n",
    "print('% of Fraud Record',float(count_fraud)/float(total_record)*100)\n",
    "\n",
    "#plot\n",
    "\n",
    "Fraud_transacation = data1[data1[\"xAttack\"]==1]\n",
    "Normal_transacation= data1[data1[\"xAttack\"]==0]\n",
    "\n",
    "f=pd.concat([data1])\n",
    "del f['xAttack']\n",
    "\n",
    "data1.head()\n",
    "x = f.as_matrix()\n",
    "y = data1['xAttack'].as_matrix()\n",
    "a=pd.DataFrame(dt.predict(x))\n",
    "b=pd.DataFrame(rf.predict(x))\n",
    "c=pd.DataFrame(gbt.predict(x))\n",
    "d=pd.DataFrame(nb.predict(x))\n",
    "e=pd.DataFrame(knn.predict(x))\n",
    "f=pd.DataFrame(mlp.predict(x))\n",
    "result=pd.concat([a,b,c,d,e,f,pd.DataFrame(y,columns=['class'])],axis=1)\n",
    "result.head()\n",
    "\n",
    "\n"
   ]
  },
  {
   "cell_type": "code",
   "execution_count": 29,
   "metadata": {},
   "outputs": [
    {
     "name": "stdout",
     "output_type": "stream",
     "text": [
      "('Stacking-Test Set Accuracy:', 80.40984989036937)\n"
     ]
    }
   ],
   "source": [
    "result['finalPred']=dr.predict(result.drop(['class'],axis=1).values)\n",
    "result.head()\n",
    "avg=accuracy_score(y, result['finalPred'])*100\n",
    "print(\"Stacking-Test Set Accuracy:\",avg)\n"
   ]
  },
  {
   "cell_type": "code",
   "execution_count": 30,
   "metadata": {},
   "outputs": [
    {
     "name": "stdout",
     "output_type": "stream",
     "text": [
      "Stacking/With K Fold\n",
      "[[8919   54]\n",
      " [2269  616]]\n",
      "('the recall for this model is :', 2270)\n",
      "('TP', 616)\n",
      "('TN', 8919)\n",
      "('FP', 54)\n",
      "('FN', 2269)\n",
      "Stacking/With K Fold\n",
      "             precision    recall  f1-score   support\n",
      "\n",
      "          0       0.80      0.99      0.88      8973\n",
      "          1       0.92      0.21      0.35      2885\n",
      "\n",
      "avg / total       0.83      0.80      0.75     11858\n",
      "\n",
      "(\"Stacking/With K Fold'- Accuracy is \", 80.40984989036937)\n"
     ]
    }
   ],
   "source": [
    "print('Stacking/With K Fold')\n",
    "\n",
    "print(confusion_matrix(y, result['finalPred'])) \n",
    "#plot drawing\n",
    "cnf_matrix=confusion_matrix(y, result['finalPred'])\n",
    "print(\"the recall for this model is :\",cnf_matrix[1,1]/cnf_matrix[1,1]+cnf_matrix[1,0])\n",
    "#fig= plt.figure(figsize=(6,3))# to plot the graph\n",
    "print(\"TP\",cnf_matrix[1,1,]) # no of fraud transaction which are predicted fraud\n",
    "print(\"TN\",cnf_matrix[0,0]) # no. of normal transaction which are predited normal\n",
    "print(\"FP\",cnf_matrix[0,1]) # no of normal transaction which are predicted fraud\n",
    "print(\"FN\",cnf_matrix[1,0]) # no of fraud Transaction which are predicted normal\n",
    "#sns.heatmap(cnf_matrix,cmap=\"coolwarm_r\",annot=True,linewidths=0.5)\n",
    "print('Stacking/With K Fold')\n",
    "print(classification_report(y, result['finalPred'] ))\n",
    "print(\"Stacking/With K Fold'- Accuracy is \", accuracy_score(y, result['finalPred'])*100)\n"
   ]
  }
 ],
 "metadata": {
  "anaconda-cloud": {},
  "kernelspec": {
   "display_name": "Python 3",
   "language": "python",
   "name": "python3"
  },
  "language_info": {
   "codemirror_mode": {
    "name": "ipython",
    "version": 3
   },
   "file_extension": ".py",
   "mimetype": "text/x-python",
   "name": "python",
   "nbconvert_exporter": "python",
   "pygments_lexer": "ipython3",
   "version": "3.7.1"
  }
 },
 "nbformat": 4,
 "nbformat_minor": 1
}
